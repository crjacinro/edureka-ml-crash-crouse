{
 "cells": [
  {
   "cell_type": "code",
   "execution_count": 82,
   "id": "1d1c4855",
   "metadata": {},
   "outputs": [],
   "source": [
    "import pandas as pd\n",
    "import matplotlib as plt\n",
    "matplotlib.use(\"Agg\")\n",
    "%matplotlib inline\n",
    "# used for plot interactive graph\n",
    "\n",
    "import seaborn as sns\n",
    "from sklearn.model_selection import train_test_split\n",
    "from sklearn import metrics\n",
    "from sklearn import tree\n",
    "\n",
    "from sklearn.ensemble import RandomForestClassifier \n",
    "from sklearn.metrics import confusion_matrix\n",
    "from sklearn.metrics import accuracy_score\n",
    "\n",
    "import random "
   ]
  },
  {
   "cell_type": "code",
   "execution_count": 83,
   "id": "f3297954",
   "metadata": {},
   "outputs": [
    {
     "name": "stdout",
     "output_type": "stream",
     "text": [
      "         ID                 Name      Date  Time Event Status Latitude  \\\n",
      "0  EP011949              UNNAMED  19490611     0           TS    20.2N   \n",
      "1  EP011949              UNNAMED  19490611   600           TS    20.2N   \n",
      "2  EP011949              UNNAMED  19490611  1200           TS    20.2N   \n",
      "3  EP011949              UNNAMED  19490611  1800           TS    20.3N   \n",
      "4  EP011949              UNNAMED  19490612     0           TS    20.4N   \n",
      "5  EP011949              UNNAMED  19490612   600           TS    20.5N   \n",
      "\n",
      "  Longitude  Maximum Wind  Minimum Pressure  ...  Low Wind SW  Low Wind NW  \\\n",
      "0    106.3W            45              -999  ...         -999         -999   \n",
      "1    106.4W            45              -999  ...         -999         -999   \n",
      "2    106.7W            45              -999  ...         -999         -999   \n",
      "3    107.7W            45              -999  ...         -999         -999   \n",
      "4    108.6W            45              -999  ...         -999         -999   \n",
      "5    109.4W            45              -999  ...         -999         -999   \n",
      "\n",
      "   Moderate Wind NE  Moderate Wind SE  Moderate Wind SW  Moderate Wind NW  \\\n",
      "0              -999              -999              -999              -999   \n",
      "1              -999              -999              -999              -999   \n",
      "2              -999              -999              -999              -999   \n",
      "3              -999              -999              -999              -999   \n",
      "4              -999              -999              -999              -999   \n",
      "5              -999              -999              -999              -999   \n",
      "\n",
      "   High Wind NE  High Wind SE  High Wind SW  High Wind NW  \n",
      "0          -999          -999          -999          -999  \n",
      "1          -999          -999          -999          -999  \n",
      "2          -999          -999          -999          -999  \n",
      "3          -999          -999          -999          -999  \n",
      "4          -999          -999          -999          -999  \n",
      "5          -999          -999          -999          -999  \n",
      "\n",
      "[6 rows x 22 columns]\n"
     ]
    }
   ],
   "source": [
    "data = pd.read_csv('data.csv')\n",
    "print(data.head(6))"
   ]
  },
  {
   "cell_type": "code",
   "execution_count": 84,
   "id": "19a13002",
   "metadata": {},
   "outputs": [
    {
     "name": "stdout",
     "output_type": "stream",
     "text": [
      "         ID                 Name      Date  Time Event  Status Latitude  \\\n",
      "0  EP011949              UNNAMED  19490611     0            11    20.2N   \n",
      "1  EP011949              UNNAMED  19490611   600            11    20.2N   \n",
      "2  EP011949              UNNAMED  19490611  1200            11    20.2N   \n",
      "3  EP011949              UNNAMED  19490611  1800            11    20.3N   \n",
      "4  EP011949              UNNAMED  19490612     0            11    20.4N   \n",
      "\n",
      "  Longitude  Maximum Wind  Minimum Pressure  ...  Low Wind SW  Low Wind NW  \\\n",
      "0    106.3W            45              -999  ...         -999         -999   \n",
      "1    106.4W            45              -999  ...         -999         -999   \n",
      "2    106.7W            45              -999  ...         -999         -999   \n",
      "3    107.7W            45              -999  ...         -999         -999   \n",
      "4    108.6W            45              -999  ...         -999         -999   \n",
      "\n",
      "   Moderate Wind NE  Moderate Wind SE  Moderate Wind SW  Moderate Wind NW  \\\n",
      "0              -999              -999              -999              -999   \n",
      "1              -999              -999              -999              -999   \n",
      "2              -999              -999              -999              -999   \n",
      "3              -999              -999              -999              -999   \n",
      "4              -999              -999              -999              -999   \n",
      "\n",
      "   High Wind NE  High Wind SE  High Wind SW  High Wind NW  \n",
      "0          -999          -999          -999          -999  \n",
      "1          -999          -999          -999          -999  \n",
      "2          -999          -999          -999          -999  \n",
      "3          -999          -999          -999          -999  \n",
      "4          -999          -999          -999          -999  \n",
      "\n",
      "[5 rows x 22 columns]\n"
     ]
    }
   ],
   "source": [
    "data.Status = pd.Categorical(data.Status)\n",
    "data['Status'] = data.Status.cat.codes\n",
    "\n",
    "print(data.head())"
   ]
  },
  {
   "cell_type": "code",
   "execution_count": 85,
   "id": "2e308793",
   "metadata": {},
   "outputs": [
    {
     "name": "stdout",
     "output_type": "stream",
     "text": [
      "['Maximum Wind', 'Minimum Pressure', 'Low Wind NE', 'Low Wind SE', 'Low Wind SW', 'Low Wind NW', 'Moderate Wind NE', 'Moderate Wind SE', 'Moderate Wind SW', 'Moderate Wind NW', 'High Wind NE', 'High Wind SE', 'High Wind SW', 'High Wind NW']\n"
     ]
    },
    {
     "name": "stderr",
     "output_type": "stream",
     "text": [
      "/Users/sevi/opt/anaconda3/lib/python3.8/site-packages/pandas/core/frame.py:4308: SettingWithCopyWarning: \n",
      "A value is trying to be set on a copy of a slice from a DataFrame\n",
      "\n",
      "See the caveats in the documentation: https://pandas.pydata.org/pandas-docs/stable/user_guide/indexing.html#returning-a-view-versus-a-copy\n",
      "  return super().drop(\n"
     ]
    }
   ],
   "source": [
    "random.seed(2)\n",
    "\n",
    "pred_columns = data[:]\n",
    "pred_columns.drop(['Status'], axis = 1, inplace = True)\n",
    "pred_columns.drop(['Event'], axis = 1, inplace = True)\n",
    "pred_columns.drop(['Latitude'], axis = 1, inplace = True)\n",
    "pred_columns.drop(['Longitude'], axis = 1, inplace = True)\n",
    "pred_columns.drop(['ID'], axis = 1, inplace = True)\n",
    "pred_columns.drop(['Name'], axis = 1, inplace = True)\n",
    "pred_columns.drop(['Date'], axis = 1, inplace = True)\n",
    "pred_columns.drop(['Time'], axis = 1, inplace = True)\n",
    "\n",
    "prediction_var = pred_columns.columns\n",
    "\n",
    "print(list(prediction_var))\n"
   ]
  },
  {
   "cell_type": "code",
   "execution_count": 86,
   "id": "ac9c62bc",
   "metadata": {},
   "outputs": [
    {
     "name": "stdout",
     "output_type": "stream",
     "text": [
      "(18295, 22)\n",
      "(7842, 22)\n"
     ]
    }
   ],
   "source": [
    "train, test = train_test_split(data, test_size = 0.3)\n",
    "\n",
    "print(train.shape)\n",
    "print(test.shape)"
   ]
  },
  {
   "cell_type": "code",
   "execution_count": 87,
   "id": "05779fdb",
   "metadata": {},
   "outputs": [
    {
     "name": "stdout",
     "output_type": "stream",
     "text": [
      "['ID', 'Name', 'Date', 'Time', 'Event', 'Status', 'Latitude', 'Longitude', 'Maximum Wind', 'Minimum Pressure', 'Low Wind NE', 'Low Wind SE', 'Low Wind SW', 'Low Wind NW', 'Moderate Wind NE', 'Moderate Wind SE', 'Moderate Wind SW', 'Moderate Wind NW', 'High Wind NE', 'High Wind SE', 'High Wind SW', 'High Wind NW']\n"
     ]
    }
   ],
   "source": [
    "train_X = train[prediction_var]\n",
    "train_y = train['Status']\n",
    "\n",
    "print(list(train.columns))\n",
    "\n",
    "test_X = test[prediction_var]\n",
    "test_y = test['Status']"
   ]
  },
  {
   "cell_type": "raw",
   "id": "3dba90eb",
   "metadata": {},
   "source": [
    "model = RandomForestClassifier(n_estimators = 100)\n",
    "model.fit(train_X, train_y)"
   ]
  },
  {
   "cell_type": "code",
   "execution_count": 88,
   "id": "2cd9e6e9",
   "metadata": {},
   "outputs": [],
   "source": [
    "prediction = model.predict(test_X)"
   ]
  },
  {
   "cell_type": "code",
   "execution_count": 89,
   "id": "dc5cc8f9",
   "metadata": {},
   "outputs": [
    {
     "data": {
      "text/plain": [
       "0.954858454475899"
      ]
     },
     "execution_count": 89,
     "metadata": {},
     "output_type": "execute_result"
    }
   ],
   "source": [
    "metrics.accuracy_score(prediction, test_y)"
   ]
  },
  {
   "cell_type": "code",
   "execution_count": 90,
   "id": "568e7be2",
   "metadata": {},
   "outputs": [
    {
     "data": {
      "text/plain": [
       "DecisionTreeClassifier()"
      ]
     },
     "execution_count": 90,
     "metadata": {},
     "output_type": "execute_result"
    }
   ],
   "source": [
    "model = tree.DecisionTreeClassifier()\n",
    "model.fit(train_X, train_y)\n",
    "\n"
   ]
  },
  {
   "cell_type": "code",
   "execution_count": 91,
   "id": "4abf79ff",
   "metadata": {},
   "outputs": [],
   "source": [
    "prediction = model.predict(test_X)"
   ]
  }
 ],
 "metadata": {
  "kernelspec": {
   "display_name": "Python 3",
   "language": "python",
   "name": "python3"
  },
  "language_info": {
   "codemirror_mode": {
    "name": "ipython",
    "version": 3
   },
   "file_extension": ".py",
   "mimetype": "text/x-python",
   "name": "python",
   "nbconvert_exporter": "python",
   "pygments_lexer": "ipython3",
   "version": "3.8.8"
  }
 },
 "nbformat": 4,
 "nbformat_minor": 5
}
